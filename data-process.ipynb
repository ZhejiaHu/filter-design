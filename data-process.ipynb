{
 "cells": [
  {
   "cell_type": "code",
   "execution_count": 9,
   "id": "initial_id",
   "metadata": {
    "ExecuteTime": {
     "end_time": "2025-03-27T09:19:41.073562Z",
     "start_time": "2025-03-27T09:19:40.817247Z"
    }
   },
   "outputs": [],
   "source": [
    "import os\n",
    "import pandas as pd\n",
    "from typing import Tuple"
   ]
  },
  {
   "cell_type": "code",
   "execution_count": 10,
   "id": "1e9ef095-bffa-474a-9e91-cd0851afc564",
   "metadata": {},
   "outputs": [],
   "source": [
    "DATA_PTH, OUTPUT_PTH = \"data\", \"output\""
   ]
  },
  {
   "cell_type": "code",
   "execution_count": 12,
   "id": "a0281166e24bc4a9",
   "metadata": {},
   "outputs": [],
   "source": [
    "def compare(raw_signal_df: pd.DataFrame, filtered_df: pd.DataFrame) -> Tuple[Tuple[pd.Series, pd.Series], Tuple[pd.Series, pd.Series], Tuple[pd.Series, pd.Series]]:\n",
    "    dmp_roll, dmp_pitch, dmp_yaw = raw_signal_df[\"DMP Roll\"], raw_signal_df[\"DMP Pitch\"], raw_signal_df[\"DMP Yaw\"]\n",
    "    filtered_roll, filtered_pitch, filtered_yaw = filtered_df[\"Filtered Roll\"], filtered_df[\"Filtered Pitch\"], filtered_df[\"Filtered Yaw\"]\n",
    "    assert dmp_roll.shape == filtered_roll.shape\n",
    "    assert dmp_pitch.shape == filtered_pitch.shape\n",
    "    assert dmp_yaw.shape == filtered_yaw.shape\n",
    "    return ((dmp_roll, filtered_roll), (dmp_pitch, filtered_pitch), (dmp_yaw, filtered_roll))"
   ]
  },
  {
   "cell_type": "code",
   "execution_count": 13,
   "id": "001167ba-accb-45f5-9a05-8f612239af13",
   "metadata": {},
   "outputs": [],
   "source": [
    "def main(signal_type: str):\n",
    "    assert signal_type in (\"roll\", \"pitch\", \"yaw\")\n",
    "    raw_signal_df, filtered_df = pd.read_csv(os.path.join(DATA_PTH, signal_type + \".txt\")), pd.read_csv(os.path.join(OUTPUT_PTH, signal_type + \".csv\"))\n",
    "    compare(raw_signal_df, filtered_df)"
   ]
  },
  {
   "cell_type": "code",
   "execution_count": 14,
   "id": "cc52c1b0-6bef-4733-91ac-d0e7ccd4770b",
   "metadata": {},
   "outputs": [],
   "source": [
    "main(\"pitch\")"
   ]
  }
 ],
 "metadata": {
  "kernelspec": {
   "display_name": "Python 3 (ipykernel)",
   "language": "python",
   "name": "python3"
  },
  "language_info": {
   "codemirror_mode": {
    "name": "ipython",
    "version": 3
   },
   "file_extension": ".py",
   "mimetype": "text/x-python",
   "name": "python",
   "nbconvert_exporter": "python",
   "pygments_lexer": "ipython3",
   "version": "3.12.3"
  }
 },
 "nbformat": 4,
 "nbformat_minor": 5
}
